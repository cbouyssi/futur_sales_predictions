{
 "cells": [
  {
   "cell_type": "markdown",
   "metadata": {},
   "source": [
    "<h2>Kaggle Challenge : Predict Future Sales - Notebook</h2>\n",
    "link : https://www.kaggle.com/c/competitive-data-science-predict-future-sales"
   ]
  },
  {
   "cell_type": "code",
   "execution_count": 1,
   "metadata": {},
   "outputs": [],
   "source": [
    "import os\n",
    "import pandas as pd\n",
    "import numpy as np\n",
    "from scipy.stats import uniform, randint\n",
    "from sklearn.preprocessing import LabelEncoder\n",
    "from sklearn.ensemble import RandomForestRegressor as rfr\n",
    "from sklearn.metrics import auc, accuracy_score, confusion_matrix, mean_squared_error\n",
    "from sklearn.model_selection import cross_val_score, GridSearchCV, KFold, RandomizedSearchCV, train_test_split\n",
    "import xgboost as xgb\n",
    "from xgboost import plot_importance\n",
    "import matplotlib.pyplot as plt"
   ]
  },
  {
   "cell_type": "markdown",
   "metadata": {},
   "source": [
    "<h4>Common methods used for models evaluation / hyperparameters otpimisation</h4>\n",
    "This method takes the result of the RandomizedSearch/GridSearch and report the scores of the 'n' first best models, with the according parameters."
   ]
  },
  {
   "cell_type": "code",
   "execution_count": 2,
   "metadata": {},
   "outputs": [],
   "source": [
    "def report_best_scores(results, n_top=3):\n",
    "    for i in range(1, n_top + 1):\n",
    "        candidates = np.flatnonzero(results['rank_test_score'] == i)\n",
    "        for candidate in candidates:\n",
    "            print(\"Model with rank: {0}\".format(i))\n",
    "            print(\"Mean validation score: {0:.3f} (std: {1:.3f})\".format(\n",
    "                  results['mean_test_score'][candidate],\n",
    "                  results['std_test_score'][candidate]))\n",
    "            print(\"Parameters: {0}\".format(results['params'][candidate]))\n",
    "            print(\"\")"
   ]
  },
  {
   "cell_type": "markdown",
   "metadata": {},
   "source": [
    "<h4>Initializing dataframes</h4>\n"
   ]
  },
  {
   "cell_type": "code",
   "execution_count": 272,
   "metadata": {},
   "outputs": [],
   "source": [
    "# Data repositories\n",
    "data_folder = \"data\"\n",
    "results_folder = \"results\"\n",
    "\n",
    "if not os.path.exists(data_folder):\n",
    "    os.makedirs(data_folder)\n",
    "    \n",
    "if not os.path.exists(results_folder):\n",
    "    os.makedirs(results_folder)\n",
    "\n",
    "# Filenames\n",
    "shops_filename = \"shops.csv\"\n",
    "items_filename = \"items.csv\"\n",
    "item_categories_filename = \"item_categories.csv\"\n",
    "train_filename = \"sales_train.csv.gz\"\n",
    "eval_filname = \"test.csv.gz\""
   ]
  },
  {
   "cell_type": "code",
   "execution_count": 273,
   "metadata": {},
   "outputs": [],
   "source": [
    "# Reading files\n",
    "shops = pd.read_csv(data_folder+\"/\"+shops_filename)\n",
    "items = pd.read_csv(data_folder+\"/\"+items_filename)\n",
    "item_categories = pd.read_csv(data_folder+\"/\"+item_categories_filename)\n",
    "train = pd.read_csv(data_folder+\"/\"+train_filename, compression='gzip')\n",
    "eval_df = pd.read_csv(data_folder+\"/\"+eval_filname, compression='gzip')"
   ]
  },
  {
   "cell_type": "code",
   "execution_count": 274,
   "metadata": {},
   "outputs": [],
   "source": [
    "# Shops dataframe - formatted : city_name shop_name \n",
    "shops['city'] = shops['shop_name'].str.split(' ').map(lambda x: x[0])\n",
    "shops['city'] = LabelEncoder().fit_transform(shops['city'])"
   ]
  },
  {
   "cell_type": "code",
   "execution_count": 275,
   "metadata": {},
   "outputs": [],
   "source": [
    "# Item categories datagrame - formatted : category - sub_category\n",
    "item_categories['category_type'] = item_categories['item_category_name'].str.split('-').map(lambda x: x[0])\n",
    "item_categories['category_type'] = LabelEncoder().fit_transform(item_categories['category_type'])"
   ]
  },
  {
   "cell_type": "code",
   "execution_count": 276,
   "metadata": {},
   "outputs": [],
   "source": [
    "# Dropping outliers\n",
    "train = train[(train['item_price'] < 50000) & (train['item_price'] > 0)]\n",
    "train = train[train.item_cnt_day<500]"
   ]
  },
  {
   "cell_type": "code",
   "execution_count": 277,
   "metadata": {},
   "outputs": [],
   "source": [
    "# Fixing dataframes shop_ids\n",
    "train.loc[train['shop_id'] == 0, 'shop_id'] = 56\n",
    "train.loc[train['shop_id'] == 10, 'shop_id'] = 11\n",
    "train.loc[train['shop_id'] == 1, 'shop_id'] = 58\n",
    "\n",
    "eval_df.loc[eval_df['shop_id'] == 0, 'shop_id'] = 56\n",
    "eval_df.loc[eval_df['shop_id'] == 10, 'shop_id'] = 11\n",
    "eval_df.loc[eval_df['shop_id'] == 1, 'shop_id'] = 58"
   ]
  },
  {
   "cell_type": "markdown",
   "metadata": {},
   "source": [
    "<h2>Monthly prediction</h2>\n",
    "<h5>In this first method I will aggregate the sales of every product on a month basis and predict the number of items sold per shop, per month</h5>\n",
    "<h3>Preprocessing of the train / test dataset</h3>\n",
    "<h4>Training dataset</h4>\n",
    "Shape : [date, date_block_num, shop_id, item_id, item_price, item_cnt_day]"
   ]
  },
  {
   "cell_type": "code",
   "execution_count": 311,
   "metadata": {
    "scrolled": false
   },
   "outputs": [],
   "source": [
    "# Aggregation of the price for each item group by shop item and date_block_num\n",
    "train_monthly_grouped = train.groupby(['date_block_num', 'shop_id', 'item_id'], as_index=False).agg({'item_price': 'median', 'item_cnt_day': 'count'})"
   ]
  },
  {
   "cell_type": "code",
   "execution_count": 312,
   "metadata": {},
   "outputs": [
    {
     "name": "stdout",
     "output_type": "stream",
     "text": [
      "date_block_num    8288770\n",
      "shop_id           8288770\n",
      "item_id           8288770\n",
      "item_price        1607380\n",
      "item_cnt_day      8288770\n",
      "dtype: int64\n"
     ]
    }
   ],
   "source": [
    "# add rows with null item counts\n",
    "matrix = []\n",
    "for i in range(34):\n",
    "    sales = train_monthly_grouped[train_monthly_grouped['date_block_num'] == i]\n",
    "    sales = pd.merge(sales, eval_df[['item_id','shop_id']], on=['item_id','shop_id'], how='outer')\n",
    "    sales['item_cnt_day'] = sales['item_cnt_day'].fillna(0)\n",
    "    sales['date_block_num'] = i\n",
    "    matrix.append(sales)\n",
    "    \n",
    "train_monthly_grouped = pd.DataFrame(np.vstack(matrix), columns = ['date_block_num','shop_id', 'item_id', 'item_price', 'item_cnt_day'])\n",
    "print(train_monthly_grouped.count())"
   ]
  },
  {
   "cell_type": "code",
   "execution_count": 313,
   "metadata": {},
   "outputs": [
    {
     "name": "stderr",
     "output_type": "stream",
     "text": [
      "C:\\Users\\cbouyssi\\AppData\\Local\\Continuum\\anaconda3\\envs\\powercaster-imp\\lib\\site-packages\\numpy\\lib\\nanfunctions.py:1076: RuntimeWarning: Mean of empty slice\n",
      "  return np.nanmean(a, axis, out=out, keepdims=keepdims)\n",
      "C:\\Users\\cbouyssi\\AppData\\Local\\Continuum\\anaconda3\\envs\\powercaster-imp\\lib\\site-packages\\numpy\\lib\\nanfunctions.py:1076: RuntimeWarning: Mean of empty slice\n",
      "  return np.nanmean(a, axis, out=out, keepdims=keepdims)\n"
     ]
    },
    {
     "name": "stdout",
     "output_type": "stream",
     "text": [
      "date_block_num    8288770\n",
      "shop_id           8288770\n",
      "item_id           8288770\n",
      "item_price        8288770\n",
      "item_cnt_day      8288770\n",
      "dtype: int64\n"
     ]
    }
   ],
   "source": [
    "# Fill the 'item_price' column\n",
    "train_monthly_grouped['item_price'] = train_monthly_grouped.groupby(['shop_id','item_id'])['item_price'].transform(lambda x: x.fillna(x.median()))\n",
    "train_monthly_grouped['item_price'] = train_monthly_grouped.groupby('item_id')['item_price'].transform(lambda x: x.fillna(x.median()))\n",
    "train_monthly_grouped['item_price'] = train_monthly_grouped['item_price'].fillna(train_monthly_grouped['item_price'].median())"
   ]
  },
  {
   "cell_type": "code",
   "execution_count": 314,
   "metadata": {},
   "outputs": [],
   "source": [
    "# Take the modulo of the month number to have seasonnality\n",
    "train_monthly_grouped['month'] = train_monthly_grouped['date_block_num'].apply(lambda x : x % 12)\n",
    "# Add feature \"city\"\n",
    "train_monthly_grouped = pd.merge(train_monthly_grouped, shops[['shop_id','city']], on = ['shop_id'], how = 'left' )\n",
    "# Add feature \"item_category_id\"\n",
    "train_monthly_grouped = pd.merge(train_monthly_grouped, items[['item_id', 'item_category_id']], on = ['item_id'], how = 'left' )\n",
    "# Add feature \"category_type\"\n",
    "train_monthly_grouped = pd.merge(train_monthly_grouped, item_categories[['item_category_id', 'category_type']], on = ['item_category_id'], how = 'left' )"
   ]
  },
  {
   "cell_type": "code",
   "execution_count": null,
   "metadata": {},
   "outputs": [
    {
     "name": "stderr",
     "output_type": "stream",
     "text": [
      "C:\\Users\\cbouyssi\\AppData\\Local\\Continuum\\anaconda3\\envs\\powercaster-imp\\lib\\site-packages\\numpy\\lib\\nanfunctions.py:1076: RuntimeWarning: Mean of empty slice\n",
      "  return np.nanmean(a, axis, out=out, keepdims=keepdims)\n"
     ]
    }
   ],
   "source": [
    "# Add feature \"last_month_cnt_item\"\n",
    "train_monthly_grouped['cnt_item_lag_1'] = train_monthly_grouped.groupby(['shop_id','item_id'])['item_cnt_day'].shift().fillna(0)\n",
    "train_monthly_grouped['cnt_item_lag_2'] = train_monthly_grouped.groupby(['shop_id','item_id'])['item_cnt_day'].shift(2).fillna(0)\n",
    "train_monthly_grouped.loc[train_monthly_grouped['date_block_num']<=0.0, ['cnt_item_lag_1']]= None\n",
    "train_monthly_grouped.loc[train_monthly_grouped['date_block_num']<=1.0, ['cnt_item_lag_2']]= None\n",
    "train_monthly_grouped[train_monthly_grouped['date_block_num'] <= 0.0]['cnt_item_lag_1'] = train_monthly_grouped.groupby(['shop_id','item_id'])['cnt_item_lag_1'].transform(lambda x: x.fillna(x.median()))\n",
    "train_monthly_grouped[train_monthly_grouped['date_block_num'] <= 0.0]['cnt_item_lag_1'] = train_monthly_grouped.groupby(['item_id'])['cnt_item_lag_1'].transform(lambda x: x.fillna(x.median()))\n",
    "train_monthly_grouped[train_monthly_grouped['date_block_num'] <= 1.0]['cnt_item_lag_2'] = train_monthly_grouped.groupby(['shop_id','item_id'])['cnt_item_lag_2'].transform(lambda x: x.fillna(x.median()))\n",
    "train_monthly_grouped[train_monthly_grouped['date_block_num'] <= 1.0]['cnt_item_lag_2'] = train_monthly_grouped.groupby(['item_id'])['cnt_item_lag_2'].transform(lambda x: x.fillna(x.median()))\n",
    "train_monthly_grouped['cnt_item_lag_1'] = train_monthly_grouped['cnt_item_lag_1'].fillna(0)\n",
    "train_monthly_grouped['cnt_item_lag_2'] = train_monthly_grouped['cnt_item_lag_2'].fillna(0)"
   ]
  },
  {
   "cell_type": "code",
   "execution_count": 345,
   "metadata": {},
   "outputs": [],
   "source": [
    "# Features\n",
    "X = train_monthly_grouped.loc[:, train_monthly_grouped.columns != 'item_cnt_day']\n",
    "# Target\n",
    "Y = train_monthly_grouped['item_cnt_day'].rename({'item_cnt_day':'item_cnt_month'})"
   ]
  },
  {
   "cell_type": "markdown",
   "metadata": {},
   "source": [
    "<h4>Testing dataset</h4>\n",
    "Shape : [shop_id, item_id]\n",
    "We'll have to associate the price of each item and add a column for the date_block_num (which will be the month number of the predictions : 34"
   ]
  },
  {
   "cell_type": "code",
   "execution_count": 336,
   "metadata": {},
   "outputs": [],
   "source": [
    "# Create a [\"shop_id\", \"item_id\", \"item_price\"] dataframe to join with test dataset\n",
    "prices = train[['shop_id', 'item_id', 'item_price']].drop_duplicates()\n",
    "prices = prices.groupby(['shop_id', 'item_id'], as_index=False).agg({'item_price':'median'})"
   ]
  },
  {
   "cell_type": "code",
   "execution_count": 337,
   "metadata": {},
   "outputs": [],
   "source": [
    "# Add prices \n",
    "eval_df_with_prices = pd.merge(eval_df, prices, on=['shop_id', 'item_id'], how = 'left')"
   ]
  },
  {
   "cell_type": "markdown",
   "metadata": {},
   "source": [
    "For the ('shop_id', 'item_id') that weren't in the training dataset, we calculate the average price for each 'item_id'"
   ]
  },
  {
   "cell_type": "code",
   "execution_count": 338,
   "metadata": {},
   "outputs": [
    {
     "name": "stderr",
     "output_type": "stream",
     "text": [
      "C:\\Users\\cbouyssi\\AppData\\Local\\Continuum\\anaconda3\\envs\\powercaster-imp\\lib\\site-packages\\numpy\\lib\\nanfunctions.py:1076: RuntimeWarning: Mean of empty slice\n",
      "  return np.nanmean(a, axis, out=out, keepdims=keepdims)\n"
     ]
    }
   ],
   "source": [
    "eval_df_with_prices['item_price'] = eval_df_with_prices.groupby('item_id')['item_price'].transform(lambda x: x.fillna(x.median()))"
   ]
  },
  {
   "cell_type": "markdown",
   "metadata": {},
   "source": [
    "For the remaining rows without 'item_price', we can't use anything besides : Median prices of all items OR median prices of all items of the same category.\n",
    "<h4>--><h/4> Method 1 : Median price"
   ]
  },
  {
   "cell_type": "code",
   "execution_count": 339,
   "metadata": {},
   "outputs": [],
   "source": [
    "eval_df_with_prices['item_price'] = eval_df_with_prices['item_price'].fillna(eval_df_with_prices['item_price'].median())"
   ]
  },
  {
   "cell_type": "code",
   "execution_count": 340,
   "metadata": {},
   "outputs": [],
   "source": [
    "# Add feature \"month number\"\n",
    "eval_df_with_prices['date_block_num'] = 34\n",
    "# Add \"month\"\n",
    "eval_df_with_prices['month'] = 34%12\n",
    "# Add feature \"city\"\n",
    "eval_df_with_prices = pd.merge(eval_df_with_prices, shops[['shop_id','city']], on = ['shop_id'], how = 'left' )\n",
    "# Add feature \"item_category_id\"\n",
    "eval_df_with_prices = pd.merge(eval_df_with_prices, items[['item_id', 'item_category_id']], on = ['item_id'], how = 'left' )\n",
    "# Add feature \"category_type\"\n",
    "eval_df_with_prices = pd.merge(eval_df_with_prices, item_categories[['item_category_id', 'category_type']], on = ['item_category_id'], how = 'left' )\n",
    "# Add feature 'cnt_item_lag_1', 'cnt_item_lag_1'\n",
    "eval_df_with_prices = pd.merge(eval_df_with_prices, X[X['date_block_num'] == 33][['shop_id','item_id','cnt_item_lag_1']], on=['shop_id','item_id'], how='left')\n",
    "eval_df_with_prices = pd.merge(eval_df_with_prices, X[X['date_block_num'] == 32][['shop_id','item_id','cnt_item_lag_2']], on=['shop_id','item_id'], how='left')"
   ]
  },
  {
   "cell_type": "markdown",
   "metadata": {},
   "source": [
    "<h3>Model Optimization /  Validation</h3>"
   ]
  },
  {
   "cell_type": "code",
   "execution_count": 253,
   "metadata": {},
   "outputs": [],
   "source": [
    "# Splitting training df into 'train' and 'test' df\n",
    "X_train, X_test, y_train, y_test = train_test_split(X, Y, test_size=0.30, random_state=0)"
   ]
  },
  {
   "cell_type": "code",
   "execution_count": 254,
   "metadata": {},
   "outputs": [
    {
     "name": "stdout",
     "output_type": "stream",
     "text": [
      "Fitting 2 folds for each of 100 candidates, totalling 200 fits\n"
     ]
    },
    {
     "name": "stderr",
     "output_type": "stream",
     "text": [
      "[Parallel(n_jobs=-1)]: Using backend LokyBackend with 4 concurrent workers.\n",
      "[Parallel(n_jobs=-1)]: Done  42 tasks      | elapsed: 107.8min\n",
      "[Parallel(n_jobs=-1)]: Done 192 tasks      | elapsed: 448.0min\n",
      "[Parallel(n_jobs=-1)]: Done 200 out of 200 | elapsed: 468.8min finished\n",
      "C:\\Users\\cbouyssi\\AppData\\Local\\Continuum\\anaconda3\\envs\\powercaster-imp\\lib\\site-packages\\xgboost\\core.py:587: FutureWarning: Series.base is deprecated and will be removed in a future version\n",
      "  if getattr(data, 'base', None) is not None and \\\n"
     ]
    },
    {
     "name": "stdout",
     "output_type": "stream",
     "text": [
      "[00:47:16] WARNING: C:/Jenkins/workspace/xgboost-win64_release_0.90/src/objective/regression_obj.cu:152: reg:linear is now deprecated in favor of reg:squarederror.\n",
      "[00:47:16] WARNING: C:\\Jenkins\\workspace\\xgboost-win64_release_0.90\\src\\learner.cc:686: Tree method is automatically selected to be 'approx' for faster speed. To use old behavior (exact greedy algorithm on single machine), set tree_method to 'exact'.\n"
     ]
    },
    {
     "data": {
      "text/plain": [
       "RandomizedSearchCV(cv=2, error_score='raise-deprecating',\n",
       "          estimator=XGBRegressor(base_score=0.5, booster='gbtree', colsample_bylevel=1,\n",
       "       colsample_bynode=1, colsample_bytree=1, gamma=0,\n",
       "       importance_type='gain', learning_rate=0.1, max_delta_step=0,\n",
       "       max_depth=3, min_child_weight=1, missing=None, n_estimators=100,\n",
       "       n_jobs=1, nthread=None, objective='reg:linear', random_state=0,\n",
       "       reg_alpha=0, reg_lambda=1, scale_pos_weight=1, seed=None,\n",
       "       silent=None, subsample=1, verbosity=1),\n",
       "          fit_params=None, iid='warn', n_iter=100, n_jobs=-1,\n",
       "          param_distributions={'colsample_bytree': <scipy.stats._distn_infrastructure.rv_frozen object at 0x0000000146AD9DA0>, 'gamma': <scipy.stats._distn_infrastructure.rv_frozen object at 0x0000000146AD94A8>, 'learning_rate': <scipy.stats._distn_infrastructure.rv_frozen object at 0x0000000146AD9C18>, 'max_...146AD90B8>, 'subsample': <scipy.stats._distn_infrastructure.rv_frozen object at 0x00000000159345F8>},\n",
       "          pre_dispatch='2*n_jobs', random_state=42, refit=True,\n",
       "          return_train_score=True, scoring=None, verbose=1)"
      ]
     },
     "execution_count": 254,
     "metadata": {},
     "output_type": "execute_result"
    }
   ],
   "source": [
    "xgb_model = xgb.XGBRegressor()\n",
    "\n",
    "# Hyper parameters tunning\n",
    "params = {\n",
    "    \"colsample_bytree\": uniform(0.7, 0.3),\n",
    "    \"gamma\": uniform(0, 0.5),\n",
    "    \"learning_rate\": uniform(0.03, 0.3), # default 0.1 \n",
    "    \"max_depth\": randint(2, 6), # default 3\n",
    "    \"n_estimators\": randint(100, 150), # default 100\n",
    "    \"subsample\": uniform(0.6, 0.4)\n",
    "}\n",
    "\n",
    "search = RandomizedSearchCV(xgb_model, param_distributions=params, random_state=42, n_iter=100, cv=2, verbose=1, n_jobs=-1, return_train_score=True)\n",
    "\n",
    "search.fit(X_train, y_train)"
   ]
  },
  {
   "cell_type": "code",
   "execution_count": 259,
   "metadata": {},
   "outputs": [
    {
     "name": "stdout",
     "output_type": "stream",
     "text": [
      "Model with rank: 1\n",
      "Mean validation score: 0.533 (std: 0.001)\n",
      "Parameters: {'colsample_bytree': 0.8045997961875188, 'gamma': 0.04808827554571038, 'learning_rate': 0.31215697934688114, 'max_depth': 5, 'n_estimators': 138, 'subsample': 0.9746919954946938}\n",
      "\n",
      "Model with rank: 2\n",
      "Mean validation score: 0.529 (std: 0.000)\n",
      "Parameters: {'colsample_bytree': 0.7467983561008608, 'gamma': 0.02904180608409973, 'learning_rate': 0.28985284373248055, 'max_depth': 5, 'n_estimators': 139, 'subsample': 0.8832290311184181}\n",
      "\n",
      "Model with rank: 3\n",
      "Mean validation score: 0.528 (std: 0.000)\n",
      "Parameters: {'colsample_bytree': 0.8935310086091695, 'gamma': 0.3344620298315498, 'learning_rate': 0.28925026952157096, 'max_depth': 5, 'n_estimators': 147, 'subsample': 0.7123089449763423}\n",
      "\n"
     ]
    }
   ],
   "source": [
    "report_best_scores(search.cv_results_)"
   ]
  },
  {
   "cell_type": "markdown",
   "metadata": {},
   "source": [
    "<h3>Evaluation</h3>\n",
    "We can now pick the model with the best results from the list given by 'report_best_scores', train it with the entire training data and make the predictions for the submission."
   ]
  },
  {
   "cell_type": "code",
   "execution_count": 355,
   "metadata": {},
   "outputs": [
    {
     "name": "stdout",
     "output_type": "stream",
     "text": [
      "[15:10:24] WARNING: C:/Jenkins/workspace/xgboost-win64_release_0.90/src/objective/regression_obj.cu:152: reg:linear is now deprecated in favor of reg:squarederror.\n",
      "[15:10:24] WARNING: C:\\Jenkins\\workspace\\xgboost-win64_release_0.90\\src\\learner.cc:686: Tree method is automatically selected to be 'approx' for faster speed. To use old behavior (exact greedy algorithm on single machine), set tree_method to 'exact'.\n",
      "[0]\tvalidation_0-rmse:1.01322\n",
      "Will train until validation_0-rmse hasn't improved in 3 rounds.\n",
      "[1]\tvalidation_0-rmse:0.914165\n",
      "[2]\tvalidation_0-rmse:0.863334\n",
      "[3]\tvalidation_0-rmse:0.850475\n",
      "[4]\tvalidation_0-rmse:0.831307\n",
      "[5]\tvalidation_0-rmse:0.821044\n",
      "[6]\tvalidation_0-rmse:0.816752\n",
      "[7]\tvalidation_0-rmse:0.813411\n",
      "[8]\tvalidation_0-rmse:0.811521\n",
      "[9]\tvalidation_0-rmse:0.809443\n",
      "[10]\tvalidation_0-rmse:0.807103\n",
      "[11]\tvalidation_0-rmse:0.805691\n",
      "[12]\tvalidation_0-rmse:0.804347\n",
      "[13]\tvalidation_0-rmse:0.803394\n",
      "[14]\tvalidation_0-rmse:0.802703\n",
      "[15]\tvalidation_0-rmse:0.801643\n",
      "[16]\tvalidation_0-rmse:0.800441\n",
      "[17]\tvalidation_0-rmse:0.799336\n",
      "[18]\tvalidation_0-rmse:0.798863\n",
      "[19]\tvalidation_0-rmse:0.79682\n",
      "[20]\tvalidation_0-rmse:0.796012\n",
      "[21]\tvalidation_0-rmse:0.79553\n",
      "[22]\tvalidation_0-rmse:0.794504\n",
      "[23]\tvalidation_0-rmse:0.793159\n",
      "[24]\tvalidation_0-rmse:0.792792\n",
      "[25]\tvalidation_0-rmse:0.792544\n",
      "[26]\tvalidation_0-rmse:0.792109\n",
      "[27]\tvalidation_0-rmse:0.791691\n",
      "[28]\tvalidation_0-rmse:0.791493\n",
      "[29]\tvalidation_0-rmse:0.791075\n",
      "[30]\tvalidation_0-rmse:0.79064\n",
      "[31]\tvalidation_0-rmse:0.789764\n",
      "[32]\tvalidation_0-rmse:0.78932\n",
      "[33]\tvalidation_0-rmse:0.789081\n",
      "[34]\tvalidation_0-rmse:0.788494\n",
      "[35]\tvalidation_0-rmse:0.787805\n",
      "[36]\tvalidation_0-rmse:0.787575\n",
      "[37]\tvalidation_0-rmse:0.786998\n",
      "[38]\tvalidation_0-rmse:0.786614\n",
      "[39]\tvalidation_0-rmse:0.786458\n",
      "[40]\tvalidation_0-rmse:0.786215\n",
      "[41]\tvalidation_0-rmse:0.785997\n",
      "[42]\tvalidation_0-rmse:0.785855\n",
      "[43]\tvalidation_0-rmse:0.785385\n",
      "[44]\tvalidation_0-rmse:0.785035\n",
      "[45]\tvalidation_0-rmse:0.784816\n",
      "[46]\tvalidation_0-rmse:0.784573\n",
      "[47]\tvalidation_0-rmse:0.783505\n",
      "[48]\tvalidation_0-rmse:0.783207\n",
      "[49]\tvalidation_0-rmse:0.783011\n",
      "[50]\tvalidation_0-rmse:0.782606\n",
      "[51]\tvalidation_0-rmse:0.782371\n",
      "[52]\tvalidation_0-rmse:0.782142\n",
      "[53]\tvalidation_0-rmse:0.781954\n",
      "[54]\tvalidation_0-rmse:0.781618\n",
      "[55]\tvalidation_0-rmse:0.781306\n",
      "[56]\tvalidation_0-rmse:0.781087\n",
      "[57]\tvalidation_0-rmse:0.780673\n",
      "[58]\tvalidation_0-rmse:0.779867\n",
      "[59]\tvalidation_0-rmse:0.779435\n",
      "[60]\tvalidation_0-rmse:0.77936\n",
      "[61]\tvalidation_0-rmse:0.77919\n",
      "[62]\tvalidation_0-rmse:0.778851\n",
      "[63]\tvalidation_0-rmse:0.778671\n",
      "[64]\tvalidation_0-rmse:0.778401\n",
      "[65]\tvalidation_0-rmse:0.778266\n",
      "[66]\tvalidation_0-rmse:0.778089\n",
      "[67]\tvalidation_0-rmse:0.777975\n",
      "[68]\tvalidation_0-rmse:0.777813\n",
      "[69]\tvalidation_0-rmse:0.777653\n",
      "[70]\tvalidation_0-rmse:0.777352\n",
      "[71]\tvalidation_0-rmse:0.776937\n",
      "[72]\tvalidation_0-rmse:0.7768\n",
      "[73]\tvalidation_0-rmse:0.776686\n",
      "[74]\tvalidation_0-rmse:0.776529\n",
      "[75]\tvalidation_0-rmse:0.77644\n",
      "[76]\tvalidation_0-rmse:0.776022\n",
      "[77]\tvalidation_0-rmse:0.775826\n",
      "[78]\tvalidation_0-rmse:0.775613\n",
      "[79]\tvalidation_0-rmse:0.775422\n",
      "[80]\tvalidation_0-rmse:0.775174\n",
      "[81]\tvalidation_0-rmse:0.774815\n",
      "[82]\tvalidation_0-rmse:0.774585\n",
      "[83]\tvalidation_0-rmse:0.774314\n",
      "[84]\tvalidation_0-rmse:0.774181\n",
      "[85]\tvalidation_0-rmse:0.773975\n",
      "[86]\tvalidation_0-rmse:0.773888\n",
      "[87]\tvalidation_0-rmse:0.773637\n",
      "[88]\tvalidation_0-rmse:0.773417\n",
      "[89]\tvalidation_0-rmse:0.773194\n",
      "[90]\tvalidation_0-rmse:0.772938\n",
      "[91]\tvalidation_0-rmse:0.772755\n",
      "[92]\tvalidation_0-rmse:0.772651\n",
      "[93]\tvalidation_0-rmse:0.772442\n",
      "[94]\tvalidation_0-rmse:0.772224\n",
      "[95]\tvalidation_0-rmse:0.772174\n",
      "[96]\tvalidation_0-rmse:0.772026\n",
      "[97]\tvalidation_0-rmse:0.771882\n",
      "[98]\tvalidation_0-rmse:0.771772\n",
      "[99]\tvalidation_0-rmse:0.771373\n",
      "[100]\tvalidation_0-rmse:0.771248\n",
      "[101]\tvalidation_0-rmse:0.771051\n",
      "[102]\tvalidation_0-rmse:0.770315\n",
      "[103]\tvalidation_0-rmse:0.770108\n",
      "[104]\tvalidation_0-rmse:0.769947\n",
      "[105]\tvalidation_0-rmse:0.769838\n",
      "[106]\tvalidation_0-rmse:0.769775\n",
      "[107]\tvalidation_0-rmse:0.769621\n",
      "[108]\tvalidation_0-rmse:0.769403\n",
      "[109]\tvalidation_0-rmse:0.769296\n",
      "[110]\tvalidation_0-rmse:0.76913\n",
      "[111]\tvalidation_0-rmse:0.768974\n",
      "[112]\tvalidation_0-rmse:0.768837\n",
      "[113]\tvalidation_0-rmse:0.768561\n",
      "[114]\tvalidation_0-rmse:0.768387\n",
      "[115]\tvalidation_0-rmse:0.768328\n",
      "[116]\tvalidation_0-rmse:0.768182\n",
      "[117]\tvalidation_0-rmse:0.767924\n",
      "[118]\tvalidation_0-rmse:0.767879\n",
      "[119]\tvalidation_0-rmse:0.767751\n",
      "[120]\tvalidation_0-rmse:0.767694\n",
      "[121]\tvalidation_0-rmse:0.767583\n",
      "[122]\tvalidation_0-rmse:0.767449\n",
      "[123]\tvalidation_0-rmse:0.767128\n",
      "[124]\tvalidation_0-rmse:0.767094\n",
      "[125]\tvalidation_0-rmse:0.767026\n",
      "[126]\tvalidation_0-rmse:0.766933\n",
      "[127]\tvalidation_0-rmse:0.766803\n",
      "[128]\tvalidation_0-rmse:0.766719\n",
      "[129]\tvalidation_0-rmse:0.76649\n",
      "[130]\tvalidation_0-rmse:0.766363\n",
      "[131]\tvalidation_0-rmse:0.766116\n",
      "[132]\tvalidation_0-rmse:0.766025\n",
      "[133]\tvalidation_0-rmse:0.765937\n",
      "[134]\tvalidation_0-rmse:0.765782\n",
      "[135]\tvalidation_0-rmse:0.765665\n",
      "[136]\tvalidation_0-rmse:0.765186\n",
      "[137]\tvalidation_0-rmse:0.765002\n"
     ]
    },
    {
     "data": {
      "text/plain": [
       "XGBRegressor(base_score=0.5, booster='gbtree', colsample_bylevel=1,\n",
       "       colsample_bynode=1, colsample_bytree=0.8045997961875188,\n",
       "       gamma=0.04808827554571038, importance_type='gain',\n",
       "       learning_rate=0.31215697934688114, max_delta_step=0, max_depth=5,\n",
       "       min_child_weight=1, missing=None, n_estimators=138, n_jobs=1,\n",
       "       nthread=None, objective='reg:linear', random_state=0, reg_alpha=0,\n",
       "       reg_lambda=1, scale_pos_weight=1, seed=None, silent=None,\n",
       "       subsample=0.9746919954946938, verbosity=1)"
      ]
     },
     "execution_count": 355,
     "metadata": {},
     "output_type": "execute_result"
    }
   ],
   "source": [
    "xgb_model = xgb.XGBRegressor(colsample_bytree=0.8045997961875188, gamma=0.04808827554571038, learning_rate=0.31215697934688114, max_depth=5, n_estimators=138, subsample=0.9746919954946938)\n",
    "xgb_model.fit(X,Y, eval_metric='rmse',eval_set=[(X,Y)], early_stopping_rounds=3)"
   ]
  },
  {
   "cell_type": "code",
   "execution_count": 356,
   "metadata": {},
   "outputs": [
    {
     "data": {
      "text/plain": [
       "<matplotlib.axes._subplots.AxesSubplot at 0x1b9ae4d68>"
      ]
     },
     "execution_count": 356,
     "metadata": {},
     "output_type": "execute_result"
    },
    {
     "data": {
      "image/png": "[encoded data removed]",
      "text/plain": [
       "<Figure size 432x288 with 1 Axes>"
      ]
     },
     "metadata": {
      "needs_background": "light"
     },
     "output_type": "display_data"
    },
    {
     "data": {
      "image/png": "[encoded data removed]",
      "text/plain": [
       "<Figure size 432x288 with 1 Axes>"
      ]
     },
     "metadata": {
      "needs_background": "light"
     },
     "output_type": "display_data"
    }
   ],
   "source": [
    "fig = plt.plot()\n",
    "plot_importance(xgb_model)"
   ]
  },
  {
   "cell_type": "code",
   "execution_count": 357,
   "metadata": {},
   "outputs": [
    {
     "name": "stdout",
     "output_type": "stream",
     "text": [
      "[0.5003818  0.01723129 1.1920476  ... 0.13567257 0.07256615 0.14114353]\n"
     ]
    }
   ],
   "source": [
    "# Make the predictions - The columns must be in the same order than the one used for training\n",
    "predictions = xgb_model.predict(eval_df_with_prices[['date_block_num', 'shop_id', 'item_id', 'item_price', 'month', 'city', 'item_category_id', 'category_type','cnt_item_lag_1','cnt_item_lag_2']])\n",
    "print(predictions)"
   ]
  },
  {
   "cell_type": "code",
   "execution_count": 358,
   "metadata": {},
   "outputs": [],
   "source": [
    "pd.DataFrame(predictions).to_csv(results_folder+\"/\"+\"results\")"
   ]
  }
 ],
 "metadata": {
  "kernelspec": {
   "display_name": "Python 3",
   "language": "python",
   "name": "python3"
  },
  "language_info": {
   "codemirror_mode": {
    "name": "ipython",
    "version": 3
   },
   "file_extension": ".py",
   "mimetype": "text/x-python",
   "name": "python",
   "nbconvert_exporter": "python",
   "pygments_lexer": "ipython3",
   "version": "3.7.3"
  }
 },
 "nbformat": 4,
 "nbformat_minor": 2
}
